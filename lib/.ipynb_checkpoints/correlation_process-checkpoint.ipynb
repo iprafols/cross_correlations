{
 "cells": [
  {
   "cell_type": "markdown",
   "metadata": {},
   "source": [
    "# Import module"
   ]
  },
  {
   "cell_type": "code",
   "execution_count": 2,
   "metadata": {
    "collapsed": false
   },
   "outputs": [],
   "source": [
    "import correlation_process\n",
    "from correlation_process import *"
   ]
  },
  {
   "cell_type": "markdown",
   "metadata": {},
   "source": [
    "# Reload module"
   ]
  },
  {
   "cell_type": "code",
   "execution_count": 58,
   "metadata": {
    "collapsed": false
   },
   "outputs": [],
   "source": [
    "reload(correlation_process)\n",
    "from correlation_process import *"
   ]
  },
  {
   "cell_type": "markdown",
   "metadata": {},
   "source": [
    "# Load data"
   ]
  },
  {
   "cell_type": "code",
   "execution_count": 62,
   "metadata": {
    "collapsed": false,
    "scrolled": true
   },
   "outputs": [
    {
     "name": "stdout",
     "output_type": "stream",
     "text": [
      "loading data from /Users/iprafols/software/development/cross_correlations/output/DLA_DR12_bin2Mpc_80Mpc_sampleC2/DR12DLA-DR12Lya_projected\n",
      "loading data from /Users/iprafols/tests/test_DLA/comparacio_DR12/cross\n"
     ]
    }
   ],
   "source": [
    "filename = \"/Users/iprafols/software/development/cross_correlations/output/DLA_DR12_bin2Mpc_80Mpc_sampleC2/\\\n",
    "DR12DLA-DR12Lya_projected\"\n",
    "filename2 = \"/Users/iprafols/tests/test_DLA/comparacio_DR12/cross\"\n",
    "\n",
    "# define pi and sigma arrays\n",
    "pi = np.arange(-80,82,2)\n",
    "sigma = np.arange(0, 82, 2)\n",
    "\n",
    "pi2 = np.array([-80, -70, - 60, -50, -40, -30, -20, -15, -10, -5, 0 , 5, 10, 15, 20, 30, 40, 50, 60, 70, 80])\n",
    "sigma2 = np.array([0, 4, 7, 10, 15, 20, 30, 40, 50, 60, 70, 80])\n",
    "\n",
    "# load data\n",
    "print \"loading data from {}\".format(filename)\n",
    "data = CorrData(filename, pi, sigma)\n",
    "print \"loading data from {}\".format(filename2)\n",
    "data2 = CorrData(filename2, pi2, sigma2)\n"
   ]
  },
  {
   "cell_type": "code",
   "execution_count": 59,
   "metadata": {
    "collapsed": false
   },
   "outputs": [],
   "source": [
    "filename = \"test/test\"\n",
    "pi = np.array([-1,0,1])\n",
    "sigma = np.array([0, 1, 2])\n",
    "\n",
    "data = CorrData(filename, pi, sigma)\n"
   ]
  },
  {
   "cell_type": "code",
   "execution_count": 60,
   "metadata": {
    "collapsed": false
   },
   "outputs": [
    {
     "name": "stdout",
     "output_type": "stream",
     "text": [
      "[ 15.  30.  45.  60.]\n",
      "R0: [ 15.  30.  45.  60.]\n",
      "R1: [ 37.5]\n",
      "R2: [ 22.5  52.5]\n",
      "R3: [ 30.  45.]\n"
     ]
    }
   ],
   "source": [
    "print data._data_mat\n",
    "\n",
    "\n",
    "# R0\n",
    "data_new_mat = rebinIgnoringCovMat(data, np.array([-1,0,1]), np.array([0,1,2]))\n",
    "print \"R0: {}\".format(data_new_mat)            \n",
    "\n",
    "# R1\n",
    "data_new_mat = rebinIgnoringCovMat(data, np.array([-1,1]), np.array([0,2]))\n",
    "print \"R1: {}\".format(data_new_mat)            \n",
    "\n",
    "# R2\n",
    "data_new_mat = rebinIgnoringCovMat(data, np.array([-1,1]), np.array([0,1, 2]))\n",
    "print \"R2: {}\".format(data_new_mat)            \n",
    "\n",
    "# R3\n",
    "data_new_mat = rebinIgnoringCovMat(data, np.array([-1,0,1]), np.array([0, 2]))\n",
    "print \"R3: {}\".format(data_new_mat)            "
   ]
  },
  {
   "cell_type": "markdown",
   "metadata": {},
   "source": [
    "# Test for systematic errors"
   ]
  },
  {
   "cell_type": "code",
   "execution_count": 63,
   "metadata": {
    "collapsed": false
   },
   "outputs": [
    {
     "name": "stdout",
     "output_type": "stream",
     "text": [
      "Selected regions: \n",
      "sigma in [10 20], pi in [-10  10]\n",
      "sigma in [20 40], pi in [-20  20]\n",
      "sigma in [40 80], pi in [-40  40]\n",
      "sigma in [10 20], pi in [-20  20]\n",
      "sigma in [20 40], pi in [-40  40]\n",
      "sigma in [40 80], pi in [-80  80]\n",
      "Results from Ignasi's data:\n",
      "[array([ 0.00139652]), array([-0.00033739]), array([-0.00041909]), array([ 0.00152592]), array([-0.00024974]), array([-0.0003576])]\n",
      "Results from Andreu's data:\n",
      "[array([-0.00146258]), array([-0.0066597]), array([-0.00395703]), array([-0.00155107]), array([-0.00601474]), array([-0.00369754])]\n",
      "Results from Ignasi's data/Results from Andreu's data:\n",
      "[array([-0.95483714]), array([ 0.05066156]), array([ 0.10590903]), array([-0.98378189]), array([ 0.0415219]), array([ 0.09671227])]\n"
     ]
    }
   ],
   "source": [
    "# define regions in parallel and perpendicular separation\n",
    "sigma_regions = [np.array([10,20]), np.array([20,40]), np.array([40,80]), \n",
    "                 np.array([10,20]), np.array([20,40]), np.array([40,80])]\n",
    "pi_regions = [np.array([-10, 10]), np.array([-20, 20]), np.array([-40, 40]),\n",
    "              np.array([-20, 20]), np.array([-40, 40]), np.array([-80, 80])]\n",
    "\n",
    "# load data matrixes\n",
    "data_mat = data.data_mat()\n",
    "data2_mat = data2.data_mat()\n",
    "\n",
    "# compute the rebinned matrixes for each of the regions\n",
    "data_new_matrixes = [rebinIgnoringCovMat(data, pi_region, sigma_region) for pi_region, sigma_region in\n",
    "                           zip(pi_regions, sigma_regions)]\n",
    "data2_new_matrixes = [rebinIgnoringCovMat(data2, pi_region, sigma_region) for pi_region, sigma_region in\n",
    "                           zip(pi_regions, sigma_regions)]\n",
    "\n",
    "print \"Selected regions: \"\n",
    "for pi_region, sigma_region in zip(pi_regions, sigma_regions):\n",
    "    print \"sigma in {}, pi in {}\".format(sigma_region, pi_region)\n",
    "\n",
    "print \"Results from Ignasi's data:\"\n",
    "print data_new_matrixes\n",
    "\n",
    "print \"Results from Andreu's data:\"\n",
    "print data2_new_matrixes\n",
    "\n",
    "print \"Results from Ignasi's data/Results from Andreu's data:\"\n",
    "print [data_new_matrix/data2_new_matrix for data_new_matrix, data2_new_matrix in \n",
    "       zip(data_new_matrixes, data2_new_matrixes)]"
   ]
  },
  {
   "cell_type": "code",
   "execution_count": 45,
   "metadata": {
    "collapsed": false
   },
   "outputs": [
    {
     "name": "stdout",
     "output_type": "stream",
     "text": [
      "-0.0143940053263 -0.00291515047917\n"
     ]
    }
   ],
   "source": [
    "value = 0.0\n",
    "num = 0.0\n",
    "for d, pi, sigma in zip(data._data_mat, data._grid_pi_mat, data._grid_sigma_mat):\n",
    "    if pi >= -10 and pi <= 10 and sigma >= 10 and sigma <= 20:\n",
    "        value += d*sigma\n",
    "        num += sigma\n",
    "value /= num\n",
    "\n",
    "value2 = 0.0\n",
    "num2 = 0.0\n",
    "pi2 = np.array([-80, -70, - 60, -50, -40, -30, -20, -15, -10, -5, 0 , 5, 10, 15, 20, 30, 40, 50, 60, 70, 80])\n",
    "sigma2 = np.array([0, 4, 7, 10, 15, 20, 30, 40, 50, 60, 70, 80])\n",
    "data2_mat = data2._data_mat \n",
    "for k_pi in range(0, pi2.size - 2):\n",
    "    for k_sigma in range(0, sigma2.size - 2):\n",
    "        aux_pi = (pi2[k_pi]+pi2[k_pi + 1])/2.0\n",
    "        aux_sigma = (sigma2[k_sigma]+sigma2[k_sigma + 1])/2.0\n",
    "        if aux_pi >= -10 and aux_pi <= 10 and aux_sigma >= 10 and aux_sigma <= 20:\n",
    "            k = k_pi*(sigma2.size - 1)+k_sigma\n",
    "            value2 += data2_mat[k]*aux_sigma\n",
    "            num2 += aux_sigma\n",
    "value2 /= num\n",
    "\n",
    "print value, value2"
   ]
  },
  {
   "cell_type": "code",
   "execution_count": 30,
   "metadata": {
    "collapsed": false
   },
   "outputs": [
    {
     "name": "stdout",
     "output_type": "stream",
     "text": [
      "-0.002955625813\n"
     ]
    }
   ],
   "source": [
    "value = 0.0\n",
    "num = 0\n",
    "for d, pi, sigma in zip(data._data_mat, data._grid_pi_mat, data._grid_sigma_mat):\n",
    "    if pi >= -20 and pi <= 20 and sigma >= 20 and sigma <= 40:\n",
    "        value += d\n",
    "        num += 1\n",
    "value /= num\n",
    "\n",
    "print value"
   ]
  },
  {
   "cell_type": "code",
   "execution_count": 31,
   "metadata": {
    "collapsed": false
   },
   "outputs": [
    {
     "name": "stdout",
     "output_type": "stream",
     "text": [
      "-0.000346035425575\n"
     ]
    }
   ],
   "source": [
    "value = 0.0\n",
    "num = 0\n",
    "for d, pi, sigma in zip(data._data_mat, data._grid_pi_mat, data._grid_sigma_mat):\n",
    "    if pi >= -40 and pi <= 40 and sigma >= 40 and sigma <= 80:\n",
    "        value += d\n",
    "        num += 1\n",
    "value /= num\n",
    "\n",
    "print value"
   ]
  },
  {
   "cell_type": "markdown",
   "metadata": {
    "collapsed": true
   },
   "source": [
    "# Print documentation"
   ]
  },
  {
   "cell_type": "code",
   "execution_count": 6,
   "metadata": {
    "collapsed": false
   },
   "outputs": [
    {
     "name": "stdout",
     "output_type": "stream",
     "text": [
      "\n",
      "Documentation for CorrData:\n",
      "\n",
      "    Manage the data generated by the cross-correlation code.\n",
      "    \n",
      "    CLASS: CorrData\n",
      "    PURPOSE:\n",
      "        Manage the data generated by the cross-correlation code\n",
      "    PUBLIC METHODS:\n",
      "        __init__(self, filename, pi, sigma)\n",
      "        computeTransformationMatrix(self, new_pi, new_sigma)\n",
      "        data_mat()\n",
      "    PRIVATE METHODS (should not be called except by class methods):\n",
      "        _formatData(self)\n",
      "    PRIVATE VARIABLES (should not be accessed except by class methods):\n",
      "        _data (structured np.ndarray]):         Contains the measurement of the cross-correlation for the\n",
      "                                                different bins\n",
      "        _data_mat (np.ndarray:                  Matrix form of _data\n",
      "        _cov (structured np.ndarray):           Contains the measurement of the covariance matrix for the\n",
      "                                                different bins\n",
      "        _cov_mat (np.ndarray):                  Matrix form of _cov\n",
      "        _grid (structured np.ndarray):          Contains the grid layout for the different bins. Ignored if\n",
      "                                                _has_grid is False\n",
      "        _grid_pi_mat (np.ndarray):              Matrix form of the values of parallel separation from _grid\n",
      "                                                Ignored if _has_grid is False\n",
      "        _grid_sigma_mat (np.ndarray):           Matrix form of the values of perpendicular separation from\n",
      "                                                _grid. Ignored if _has_grid is False\n",
      "        _grid_z_mat (np.ndarray):               Matrix form of the values of the redshift from _grid. Ignored\n",
      "                                                if _has_grid is False\n",
      "        _dist (structured np.ndarray):          Contains the measurement of the covariance matrix. Ignored\n",
      "                                                if _has_dist is False\n",
      "        _dist_mat (np.ndarray):                 Matrix form of _dist. Ignored if _has_dist is False\n",
      "        _has_grid (boolean):                    True if the grid layout is specified, False otherwise\n",
      "        _has_dmat (boolean):                    True if the distortion matrix is specified, False otherwise\n",
      "        _pi (np.ndarray):                       An array specifying the limits of the parallel separation\n",
      "                                                bins\n",
      "        _sigma (np.ndarray]):                   An array specifying the limits of the perpendicular\n",
      "                                                separation bins\n",
      "        _transformatiom_matrix (np.ndarray):    An array containing the conversion to the last specified\n",
      "                                                binning\n",
      "        _cov_mat_new (np.ndarray):              An array containing the rebinned version of _cov_mat\n",
      "        _data_mat_new (np.ndarray):             An array containing the rebinned version of _data_mat\n",
      "        _grid_pi_mat_new (np.ndarray):          An array containing the rebinned version of _grid_pi_mat.\n",
      "                                                Ignored if _has_grid is False\n",
      "        _grid_sigma_mat_new (np.ndarray):       An array containing the rebinned version of _grid_sigma_mat.\n",
      "                                                Ignored if _has_grid is False\n",
      "        _grid_z_mat_new (np.ndarray):           An array containing the rebinned version of _grid_z_mat.\n",
      "                                                Ignored if _has_grid is False\n",
      "    ASSOCIATED WARNING AND ERORR CLASSES:\n",
      "        CorrDataWarning\n",
      "        CorrDataError\n",
      "\n",
      "\n"
     ]
    }
   ],
   "source": [
    "showDocumentation(CorrData)"
   ]
  },
  {
   "cell_type": "code",
   "execution_count": 71,
   "metadata": {
    "collapsed": false
   },
   "outputs": [
    {
     "name": "stdout",
     "output_type": "stream",
     "text": [
      "\n",
      "Documentation for CorrData.rebinData:\n",
      "\n",
      "    Rebins the data to the specified binning\n",
      "    \n",
      "    FUNCTION: CorrData.rebinData\n",
      "    TYPE: Public\n",
      "    PURPOSE:\n",
      "        Rebins the data to the specified binning.\n",
      "        The rebinning is performed as follows\n",
      "    \n",
      "        The covariance matrix is rebinned as\n",
      "            C_{new}^{-1} = S^{t} C^{-1} S,\n",
      "        where S is the specified transformation matrix\n",
      "    \n",
      "        The data (and possibly the grid) is rebinned as\n",
      "            data_{new} = C_{new} S^{t} C^{-1} data\n",
      "    \n",
      "        The grid is only rebinned if the flag _has_grid is True. Upon options may store the resulting\n",
      "        matrix as a instance attribute. Previous similar instances are deleted.\n",
      "    \n",
      "    ARGUMENTS:\n",
      "        transformation_matrix (np.ndarray): The matrix that will be used in the transformation\n",
      "    KEYWORD ARGUMENTS:\n",
      "        keep_results (boolean):             If True, keeps the resulting rebinned matrixes as\n",
      "                                            private instances attributes -- Default: False\n",
      "    RETURNS:\n",
      "        The rebinned matrixes. The order is cov_mat_new, data_mat_new, [grid_pi_mat_new,\n",
      "        grid_sigma_mat_new, grid_z_mat_new]\n",
      "    EXCEPTION SAFETY:\n",
      "        Raises a CorrDataError instance if the parameters don't have the correct type or if the specified\n",
      "        bins are smaller than the originals.\n",
      "    EXAMPLES:\n",
      "        data.computeTransformatiomMatrix(np.arange(-80, 80 + 4, 4), np.arange(0, 80+4, 4))\n",
      "        data.computeTransformatiomMatrix(np.arange(-80, 80 + 4, 4), np.arange(0, 80+4, 4), keep_matrix=True)\n",
      "        data.computeTransformatiomMatrix(np.arange(-80, 80 + 4, 4), np.arange(0, 80+4, 4), keep_matrix=False)\n",
      "\n",
      "\n"
     ]
    }
   ],
   "source": [
    "showDocumentation(CorrData.rebinData)"
   ]
  },
  {
   "cell_type": "code",
   "execution_count": 18,
   "metadata": {
    "collapsed": false
   },
   "outputs": [
    {
     "name": "stdout",
     "output_type": "stream",
     "text": [
      "\n",
      "Documentation for showDocumentation:\n",
      "\n",
      "    Shows the documentation for the selected items(s)\n",
      "    \n",
      "    FUNCTION: showDocumentation\n",
      "    PURPOSE:\n",
      "        Shows the documentation for the selected items(s). Items may be classes, methods,\n",
      "        or functions. If 'all' is passed, prints the documentation of all the classes,\n",
      "        mehtods and functions. If 'module' is passed, prints the module documentation\n",
      "    ARGUMENTS:\n",
      "        fnc (list or tuple of objects,\n",
      "             objects, 'all' or 'module'): Function(s) the documentation of which is to\n",
      "                                          be printed\n",
      "    EXAMPLES:\n",
      "        showDocumentation(CorrData)\n",
      "        showDocumentation(CorrData.rebinData)\n",
      "        showDocumentation([CorrData, CorrData.rebinData])\n",
      "        showDocumentation((CorrData, corrData.rebinData))\n",
      "        showDocumentation(showDocumentation)\n",
      "        showDocumentation(\"module\")\n",
      "        showDocumentation(\"all\")\n",
      "\n",
      "\n"
     ]
    }
   ],
   "source": [
    "showDocumentation(showDocumentation)"
   ]
  },
  {
   "cell_type": "code",
   "execution_count": 8,
   "metadata": {
    "collapsed": false
   },
   "outputs": [
    {
     "name": "stdout",
     "output_type": "stream",
     "text": [
      "\n",
      "Documentation for CorrData:\n",
      "\n",
      "    Manage the data generated by the cross-correlation code.\n",
      "    \n",
      "    CLASS: CorrData\n",
      "    PURPOSE:\n",
      "        Manage the data generated by the cross-correlation code\n",
      "    PUBLIC METHODS:\n",
      "        __init__(self, filename, pi, sigma)\n",
      "        computeTransformationMatrix(self, new_pi, new_sigma)\n",
      "        data_mat()\n",
      "    PRIVATE METHODS (should not be called except by class methods):\n",
      "        _formatData(self)\n",
      "    PRIVATE VARIABLES (should not be accessed except by class methods):\n",
      "        _data (structured np.ndarray]):         Contains the measurement of the cross-correlation for the\n",
      "                                                different bins\n",
      "        _data_mat (np.ndarray:                  Matrix form of _data\n",
      "        _cov (structured np.ndarray):           Contains the measurement of the covariance matrix for the\n",
      "                                                different bins\n",
      "        _cov_mat (np.ndarray):                  Matrix form of _cov\n",
      "        _grid (structured np.ndarray):          Contains the grid layout for the different bins. Ignored if\n",
      "                                                _has_grid is False\n",
      "        _grid_pi_mat (np.ndarray):              Matrix form of the values of parallel separation from _grid\n",
      "                                                Ignored if _has_grid is False\n",
      "        _grid_sigma_mat (np.ndarray):           Matrix form of the values of perpendicular separation from\n",
      "                                                _grid. Ignored if _has_grid is False\n",
      "        _grid_z_mat (np.ndarray):               Matrix form of the values of the redshift from _grid. Ignored\n",
      "                                                if _has_grid is False\n",
      "        _dist (structured np.ndarray):          Contains the measurement of the covariance matrix. Ignored\n",
      "                                                if _has_dist is False\n",
      "        _dist_mat (np.ndarray):                 Matrix form of _dist. Ignored if _has_dist is False\n",
      "        _has_grid (boolean):                    True if the grid layout is specified, False otherwise\n",
      "        _has_dmat (boolean):                    True if the distortion matrix is specified, False otherwise\n",
      "        _pi (np.ndarray):                       An array specifying the limits of the parallel separation\n",
      "                                                bins\n",
      "        _sigma (np.ndarray]):                   An array specifying the limits of the perpendicular\n",
      "                                                separation bins\n",
      "        _transformatiom_matrix (np.ndarray):    An array containing the conversion to the last specified\n",
      "                                                binning\n",
      "        _cov_mat_new (np.ndarray):              An array containing the rebinned version of _cov_mat\n",
      "        _data_mat_new (np.ndarray):             An array containing the rebinned version of _data_mat\n",
      "        _grid_pi_mat_new (np.ndarray):          An array containing the rebinned version of _grid_pi_mat.\n",
      "                                                Ignored if _has_grid is False\n",
      "        _grid_sigma_mat_new (np.ndarray):       An array containing the rebinned version of _grid_sigma_mat.\n",
      "                                                Ignored if _has_grid is False\n",
      "        _grid_z_mat_new (np.ndarray):           An array containing the rebinned version of _grid_z_mat.\n",
      "                                                Ignored if _has_grid is False\n",
      "    ASSOCIATED WARNING AND ERORR CLASSES:\n",
      "        CorrDataWarning\n",
      "        CorrDataError\n",
      "\n",
      "\n",
      "\n",
      "Documentation for CorrData.rebinData:\n",
      "\n",
      "    Rebins the data to the specified binning\n",
      "    \n",
      "    FUNCTION: CorrData.rebinData\n",
      "    TYPE: Public\n",
      "    PURPOSE:\n",
      "        Rebins the data to the specified binning.\n",
      "        The rebinning is performed as follows\n",
      "    \n",
      "        The covariance matrix is rebinned as\n",
      "            C_{new}^{-1} = S^{t} C^{-1} S,\n",
      "        where S is the specified transformation matrix\n",
      "    \n",
      "        The data (and possibly the grid) is rebinned as\n",
      "            data_{new} = C_{new} S^{t} C^{-1} data\n",
      "    \n",
      "        The grid is only rebinned if the flag _has_grid is True. Upon options may store the resulting\n",
      "        matrix as a instance attribute. Previous similar instances are deleted.\n",
      "    \n",
      "    ARGUMENTS:\n",
      "        transformation_matrix (np.ndarray): The matrix that will be used in the transformation\n",
      "    KEYWORD ARGUMENTS:\n",
      "        keep_results (boolean):             If True, keeps the resulting rebinned matrixes as\n",
      "                                            private instances attributes -- Default: False\n",
      "    RETURNS:\n",
      "        The rebinned matrixes. The order is cov_mat_new, data_mat_new, [grid_pi_mat_new,\n",
      "        grid_sigma_mat_new, grid_z_mat_new]\n",
      "    EXCEPTION SAFETY:\n",
      "        Raises a CorrDataError instance if the parameters don't have the correct type or if the specified\n",
      "        bins are smaller than the originals.\n",
      "    EXAMPLES:\n",
      "        data.computeTransformatiomMatrix(np.arange(-80, 80 + 4, 4), np.arange(0, 80+4, 4))\n",
      "        data.computeTransformatiomMatrix(np.arange(-80, 80 + 4, 4), np.arange(0, 80+4, 4), keep_matrix=True)\n",
      "        data.computeTransformatiomMatrix(np.arange(-80, 80 + 4, 4), np.arange(0, 80+4, 4), keep_matrix=False)\n",
      "\n",
      "\n"
     ]
    }
   ],
   "source": [
    "showDocumentation([CorrData, CorrData.rebinData, showDocumentation])"
   ]
  },
  {
   "cell_type": "code",
   "execution_count": 3,
   "metadata": {
    "collapsed": false
   },
   "outputs": [
    {
     "name": "stdout",
     "output_type": "stream",
     "text": [
      "\n",
      "Documentation for rebinIgnoringCovMat:\n",
      "\n",
      "    Rebins the data to the specified binning ignoring the covariance matrix\n",
      "    \n",
      "    FUNCTION: rebinIgnoringCovMat\n",
      "    TYPE: Regular function\n",
      "    PURPOSE:\n",
      "        Rebins the data to the specified binning ignoring the covariance matrix\n",
      "        The rebinning is performed as follows\n",
      "    \n",
      "        The covariance matrix is rebinned as\n",
      "        C_{new}^{-1} = S^{t} S,\n",
      "        where S is the specified transformation matrix.\n",
      "    \n",
      "        The data is rebinned as\n",
      "        data_{new} = C_{new} S^{t} data\n",
      "    ARGUMENTS:\n",
      "        data (CorrData):    Instance of CorrData containing the data to rebin\n",
      "        pi (np.ndarray):    New binning for parallel\n",
      "        sigma (np.ndarray): New binning for perpendicular separation\n",
      "    RETURNS: The rebinned data matrix.\n",
      "    EXAMPLES:\n",
      "        data_mat_new = rebinIgnoringCovMat(data, np.array([-10, 10]), np.array([10, 20]))\n",
      "\n",
      "\n"
     ]
    }
   ],
   "source": [
    "showDocumentation(rebinIgnoringCovMat)"
   ]
  },
  {
   "cell_type": "code",
   "execution_count": 10,
   "metadata": {
    "collapsed": false
   },
   "outputs": [
    {
     "name": "stdout",
     "output_type": "stream",
     "text": [
      "\n",
      "Documentation for rebinIgnoringCovMat:\n",
      "\n",
      "    Rebins the data to the specified binning ignoring the covariance matrix\n",
      "    \n",
      "    FUNCTION: rebinIgnoringCovMat\n",
      "    PURPOSE:\n",
      "        Rebins the data to the specified binning ignoring the covariance matrix\n",
      "        The rebinning is performed as follows\n",
      "    \n",
      "        The covariance matrix is rebinned as\n",
      "            C_{new}^{-1} = S^{t} S,\n",
      "        where S is the specified transformation matrix.\n",
      "    \n",
      "        The data is rebinned as\n",
      "            data_{new} = C_{new} S^{t} data\n",
      "    ARGUMENTS:\n",
      "        data (CorrData):    Instance of CorrData containing the data to rebin\n",
      "        pi (np.ndarray):    New binning for parallel\n",
      "        sigma (np.ndarray): New binning for perpendicular separation\n",
      "    RETURNS:\n",
      "        The rebinned data matrix.\n",
      "    EXAMPLES:\n",
      "        data_mat_new = rebinIgnoringCovMat(data, np.array([-10, 10]), np.array([10, 20]))\n",
      "\n",
      "\n",
      "\n",
      "Documentation for showDocumentation:\n",
      "\n",
      "    Shows the documentation for the selected items(s)\n",
      "    \n",
      "    FUNCTION: showDocumentation\n",
      "    PURPOSE:\n",
      "        Shows the documentation for the selected items(s). Items may be classes, methods,\n",
      "        or functions. If 'all' is passed, prints the documentation of all the classes,\n",
      "        mehtods and functions. If 'module' is passed, prints the module documentation\n",
      "    ARGUMENTS:\n",
      "        fnc (list or tuple of objects,\n",
      "             objects, 'all' or 'module'): Function(s) the documentation of which is to\n",
      "                                          be printed\n",
      "    EXAMPLES:\n",
      "        showDocumentation(CorrData)\n",
      "        showDocumentation(CorrData.rebinData)\n",
      "        showDocumentation([CorrData, CorrData.rebinData])\n",
      "        showDocumentation((CorrData, corrData.rebinData))\n",
      "        showDocumentation(showDocumentation)\n",
      "        showDocumentation(\"module\")\n",
      "        showDocumentation(\"all\")\n",
      "\n",
      "\n",
      "\n",
      "Documentation for trim:\n",
      "\n",
      "    Shows the documentation for the selected items(s)\n",
      "    \n",
      "    FUNCTION: showDocumentation\n",
      "    PURPOSE:\n",
      "    Docstring processing tools will strip a uniform amount of indentation from the second\n",
      "    and further lines of the docstring, equal to the minimum indentation of all non-blank\n",
      "    lines after the first line. Any indentation in the first line of the docstring (i.e.,\n",
      "    up to the first newline) is insignificant and removed except for a single indentation\n",
      "    block. Relative indentation of later lines in the docstring is retained. Blank lines\n",
      "    should be removed from the beginning and end of the docstring.\n",
      "    Adapted from https://www.python.org/dev/peps/pep-0257/\n",
      "    ARGUMENTS:\n",
      "        docstring\n",
      "    EXAMPLES:\n",
      "        trim(object.__doc__)\n",
      "\n",
      "\n",
      "\n",
      "Documentation for CorrData:\n",
      "\n",
      "    Manage the data generated by the cross-correlation code.\n",
      "    \n",
      "    CLASS: CorrData\n",
      "    PURPOSE:\n",
      "        Manage the data generated by the cross-correlation code\n",
      "    PUBLIC METHODS:\n",
      "        __init__(self, filename, pi, sigma)\n",
      "        computeTransformationMatrix(self, new_pi, new_sigma)\n",
      "        data_mat()\n",
      "    PRIVATE METHODS (should not be called except by class methods):\n",
      "        _formatData(self)\n",
      "    PRIVATE VARIABLES (should not be accessed except by class methods):\n",
      "        _data (structured np.ndarray]):         Contains the measurement of the cross-correlation for the\n",
      "                                                different bins\n",
      "        _data_mat (np.ndarray:                  Matrix form of _data\n",
      "        _cov (structured np.ndarray):           Contains the measurement of the covariance matrix for the\n",
      "                                                different bins\n",
      "        _cov_mat (np.ndarray):                  Matrix form of _cov\n",
      "        _grid (structured np.ndarray):          Contains the grid layout for the different bins. Ignored if\n",
      "                                                _has_grid is False\n",
      "        _grid_pi_mat (np.ndarray):              Matrix form of the values of parallel separation from _grid\n",
      "                                                Ignored if _has_grid is False\n",
      "        _grid_sigma_mat (np.ndarray):           Matrix form of the values of perpendicular separation from\n",
      "                                                _grid. Ignored if _has_grid is False\n",
      "        _grid_z_mat (np.ndarray):               Matrix form of the values of the redshift from _grid. Ignored\n",
      "                                                if _has_grid is False\n",
      "        _dist (structured np.ndarray):          Contains the measurement of the covariance matrix. Ignored\n",
      "                                                if _has_dist is False\n",
      "        _dist_mat (np.ndarray):                 Matrix form of _dist. Ignored if _has_dist is False\n",
      "        _has_grid (boolean):                    True if the grid layout is specified, False otherwise\n",
      "        _has_dmat (boolean):                    True if the distortion matrix is specified, False otherwise\n",
      "        _pi (np.ndarray):                       An array specifying the limits of the parallel separation\n",
      "                                                bins\n",
      "        _sigma (np.ndarray]):                   An array specifying the limits of the perpendicular\n",
      "                                                separation bins\n",
      "        _transformatiom_matrix (np.ndarray):    An array containing the conversion to the last specified\n",
      "                                                binning\n",
      "        _cov_mat_new (np.ndarray):              An array containing the rebinned version of _cov_mat\n",
      "        _data_mat_new (np.ndarray):             An array containing the rebinned version of _data_mat\n",
      "        _grid_pi_mat_new (np.ndarray):          An array containing the rebinned version of _grid_pi_mat.\n",
      "                                                Ignored if _has_grid is False\n",
      "        _grid_sigma_mat_new (np.ndarray):       An array containing the rebinned version of _grid_sigma_mat.\n",
      "                                                Ignored if _has_grid is False\n",
      "        _grid_z_mat_new (np.ndarray):           An array containing the rebinned version of _grid_z_mat.\n",
      "                                                Ignored if _has_grid is False\n",
      "    ASSOCIATED WARNING AND ERORR CLASSES:\n",
      "        CorrDataWarning\n",
      "        CorrDataError\n",
      "\n",
      "\n",
      "\n",
      "Documentation for CorrData.__init__:\n",
      "\n",
      "    Initialize class instance.\n",
      "    \n",
      "    FUNCTION: CorrData.__init__\n",
      "    TYPE: Constructor, public\n",
      "    PURPOSE:\n",
      "        Initialize class instance\n",
      "    ARGUMENTS:\n",
      "        filename (string):  Name of the file containing the data to process (without the extension)\n",
      "        pi (np.ndarray):    Intervals of parallel separation at which the data was measured\n",
      "        sigma (np.ndarray): Intervals of perpendicular separation at which the data was measured\n",
      "    RETURNS:\n",
      "        A initialized instance of CorrData\n",
      "    EXCEPTION SAFETY:\n",
      "        Raises a CorrDataError instance if the arguments are of incorrect type, data is not readable\n",
      "        or data shapes are not consistent. Prints a CorrDataWarning if the specified bin ranges are\n",
      "        not consistent with the read data. The instance is still formed after the warning, but some\n",
      "        features may produce unexpected results\n",
      "    EXAMPLES:\n",
      "        data = CorrData(\"my_measurement\", np.arange(-80, 80 + 2, 2), np.arange(0, 80 + 2, 2))\n",
      "\n",
      "\n",
      "\n",
      "Documentation for CorrData._formatData:\n",
      "\n",
      "    Formats current data into operable matrixes.\n",
      "    \n",
      "    FUNCTION: CorrData._formatData\n",
      "    TYPE: Private (to be accessed only from class member functions)\n",
      "    PURPOSE:\n",
      "        Formats current data into operable matrixes. Formatted matrixes are stored as new\n",
      "        instance members and are not linked with the original arrays.\n",
      "    EXAMPLES:\n",
      "        self._formatData()\n",
      "\n",
      "\n",
      "\n",
      "Documentation for CorrData.computeTransformationMatrix:\n",
      "\n",
      "    Compute the transformation matrix from the data bins to the given bins.\n",
      "    \n",
      "    FUNCTION: CorrData.computeTransformationMatrix\n",
      "    TYPE: Public\n",
      "    PURPOSE:\n",
      "        Compute the transformation matrix from the data bins to the specified bins. The bins must be\n",
      "        wider than the original bins. Upon options may store the resulting matrix as a instance\n",
      "        attribute. Previous similar instances are deleted.\n",
      "    ARGUMENTS:\n",
      "        new_pi (np.ndarray):    An array specifying the limits of the parallel separation bins\n",
      "        new_sigma (np.ndarray): An array specifying the limits of the perpendicular separation bins\n",
      "    KEYWORD ARGUMENTS:\n",
      "        keep_matrix (boolean):  If True, keeps the resulting transformation matrix as a private instance\n",
      "                                attribute -- Default: False\n",
      "    RETURNS:\n",
      "        The transformation matrix between the data bins to the specified bins\n",
      "    EXCEPTION SAFETY:\n",
      "        Raises a CorrDataError instance if the parameters don't have the correct type or if the\n",
      "        specified bins are smaller than the originals.\n",
      "    EXAMPLES:\n",
      "        data.computeTransformatiomMatrix(np.arange(-80, 80 + 4, 4), np.arange(0, 80+4, 4))\n",
      "        data.computeTransformatiomMatrix(np.arange(-80, 80 + 4, 4), np.arange(0, 80+4, 4), keep_matrix=True)\n",
      "        data.computeTransformatiomMatrix(np.arange(-80, 80 + 4, 4), np.arange(0, 80+4, 4), keep_matrix=False)\n",
      "\n",
      "\n",
      "\n",
      "Documentation for CorrData.data_mat:\n",
      "\n",
      "    Returns a copy of data_mat so that its value can be safely used outside of the class\n",
      "    \n",
      "    FUNCTION: CorrData.data_mat\n",
      "    TYPE: Access\n",
      "    PURPOSE: Returns a copy of data_mat so that its value can be safely used outside of the class\n",
      "    RETURNS: a copy of self._data_mat\n",
      "    EXAMPLES:\n",
      "        data_mat = data.data_mat()\n",
      "\n",
      "\n",
      "\n",
      "Documentation for CorrData.rebinData:\n",
      "\n",
      "    Rebins the data to the specified binning\n",
      "    \n",
      "    FUNCTION: CorrData.rebinData\n",
      "    TYPE: Public\n",
      "    PURPOSE:\n",
      "        Rebins the data to the specified binning.\n",
      "        The rebinning is performed as follows\n",
      "    \n",
      "        The covariance matrix is rebinned as\n",
      "            C_{new}^{-1} = S^{t} C^{-1} S,\n",
      "        where S is the specified transformation matrix\n",
      "    \n",
      "        The data (and possibly the grid) is rebinned as\n",
      "            data_{new} = C_{new} S^{t} C^{-1} data\n",
      "    \n",
      "        The grid is only rebinned if the flag _has_grid is True. Upon options may store the resulting\n",
      "        matrix as a instance attribute. Previous similar instances are deleted.\n",
      "    \n",
      "    ARGUMENTS:\n",
      "        transformation_matrix (np.ndarray): The matrix that will be used in the transformation\n",
      "    KEYWORD ARGUMENTS:\n",
      "        keep_results (boolean):             If True, keeps the resulting rebinned matrixes as\n",
      "                                            private instances attributes -- Default: False\n",
      "    RETURNS:\n",
      "        The rebinned matrixes. The order is cov_mat_new, data_mat_new, [grid_pi_mat_new,\n",
      "        grid_sigma_mat_new, grid_z_mat_new]\n",
      "    EXCEPTION SAFETY:\n",
      "        Raises a CorrDataError instance if the parameters don't have the correct type or if the specified\n",
      "        bins are smaller than the originals.\n",
      "    EXAMPLES:\n",
      "        data.computeTransformatiomMatrix(np.arange(-80, 80 + 4, 4), np.arange(0, 80+4, 4))\n",
      "        data.computeTransformatiomMatrix(np.arange(-80, 80 + 4, 4), np.arange(0, 80+4, 4), keep_matrix=True)\n",
      "        data.computeTransformatiomMatrix(np.arange(-80, 80 + 4, 4), np.arange(0, 80+4, 4), keep_matrix=False)\n",
      "\n",
      "\n",
      "\n",
      "Documentation for CorrDataError:\n",
      "\n",
      "    CorrData Exception\n",
      "    \n",
      "    CLASS: CorrDataError\n",
      "    PURPOSE: CorrData Exception\n",
      "    PUBLIC FUNCTIONS:\n",
      "        __init__(self, filename, pi, sigma)\n",
      "        __str__(self)\n",
      "    PRIVATE VARIABLES (should not be accessed outside the class body):\n",
      "        _method (CorrData method): Mehtod of CorrData that produced the error\n",
      "        _message (string):         Error message\n",
      "\n",
      "\n",
      "\n",
      "Documentation for CorrDataError.__init__:\n",
      "\n",
      "    Initialize class instance\n",
      "    \n",
      "    FUNCTION: CorrDataError.__init__\n",
      "    TYPE: Constructor, public\n",
      "    PURPOSE: Initialize class instance\n",
      "    ARGUMENTS:\n",
      "        method (CorrData method):  Mehtod of CorrData that produced the error\n",
      "        message (string):          The error message\n",
      "    RETURNS:\n",
      "        A initialized instance of CorrDataError\n",
      "    EXAMPLES:\n",
      "        error = CorrDataError(\"this is an error\")\n",
      "\n",
      "\n",
      "\n",
      "Documentation for CorrDataError.__str__:\n",
      "\n",
      "    Returns a printable representation of the error message\n",
      "    \n",
      "    FUNCTION: CorrDataWArning.__str__\n",
      "    TYPE: Public\n",
      "    PURPOSE: Returns a printable representation of the error message\n",
      "    RETURNS:\n",
      "        A printable representation of the error message\n",
      "    EXAMPLES:\n",
      "        print CorrDataError(\"this is a warning\")\n",
      "\n",
      "\n",
      "\n",
      "Documentation for CorrDataWarning:\n",
      "\n",
      "    Manage warnings related to CorrData\n",
      "    \n",
      "    CLASS: CorrDataWarning\n",
      "    PURPOSE:\n",
      "        Manage warnings related to CorrData\n",
      "    PUBLIC FUNCTIONS:\n",
      "        __init__(self, filename, pi, sigma)\n",
      "        __str__(self)\n",
      "    PRIVATE VARIABLES (should not be accessed outside the class body):\n",
      "        _method (CorrData method): Mehtod of CorrData that produced the warning\n",
      "        _message (string):         Warning message\n",
      "\n",
      "\n",
      "\n",
      "Documentation for CorrDataWarning.__init__:\n",
      "\n",
      "    Initialize class instance\n",
      "    \n",
      "    FUNCTION: CorrDataWArning.__init__\n",
      "    TYPE: Constructor, public\n",
      "    PURPOSE:\n",
      "        Initialize class instance\n",
      "    ARGUMENTS:\n",
      "        method (CorrData method): Mehtod of CorrData that produced the warning\n",
      "        message (string):         The warning message\n",
      "    RETURNS:\n",
      "        A initialized instance of CorrDataWarning\n",
      "    EXAMPLES:\n",
      "        warning = CorrDataWarning(\"this is a warning\")\n",
      "\n",
      "\n",
      "\n",
      "Documentation for CorrDataWarning.__str__:\n",
      "\n",
      "    Returns a printable representation of the warning message\n",
      "    \n",
      "    FUNCTION: CorrDataWArning.__str__\n",
      "    TYPE: Public\n",
      "    PURPOSE:\n",
      "        Returns a printable representation of the warning message\n",
      "    RETURNS:\n",
      "        A printable representation of the warning message\n",
      "    EXAMPLES:\n",
      "        print CorrDataWarning(\"this is a warning\")\n",
      "\n",
      "\n",
      "\n",
      "Documentation for CorrelationProcessError:\n",
      "\n",
      "    Handles exceptions caused by the functions in the module CorrelationProcess.\n",
      "    \n",
      "    CLASS: CorrelationProcessError\n",
      "    PURPOSE:\n",
      "        Handles exceptions caused by the functions in the module CorrelationProcess.\n",
      "        The errors caused inside the classes of this module have their own Exception\n",
      "    PUBLIC FUNCTIONS:\n",
      "    __init__(self, filename, pi, sigma)\n",
      "    __str__(self)\n",
      "    PRIVATE VARIABLES (should not be accessed outside the class body):\n",
      "    _method (CorrData method): Mehtod that produced the error\n",
      "    _message (string):         Error message\n",
      "\n",
      "\n",
      "\n",
      "Documentation for CorrelationProcessError.__init__:\n",
      "\n",
      "    Initialize class instance\n",
      "    \n",
      "    FUNCTION: CorrDataError.__init__\n",
      "    TYPE: Constructor, public\n",
      "    PURPOSE: Initialize class instance\n",
      "    ARGUMENTS:\n",
      "    method (CorrData method):  Function that produced the error\n",
      "    message (string):          The error message\n",
      "    RETURNS:\n",
      "    A initialized instance of CorrDataError\n",
      "    EXAMPLES:\n",
      "    error = CorrDataError(\"this is an error\")\n",
      "\n",
      "\n",
      "\n",
      "Documentation for CorrelationProcessError.__str__:\n",
      "\n",
      "    Returns a printable representation of the error message\n",
      "    \n",
      "    FUNCTION: CorrDataWArning.__str__\n",
      "    TYPE: Public\n",
      "    PURPOSE: Returns a printable representation of the error message\n",
      "    RETURNS:\n",
      "    A printable representation of the error message\n",
      "    EXAMPLES:\n",
      "    print CorrDataError(\"this is a warning\")\n",
      "\n",
      "\n"
     ]
    }
   ],
   "source": [
    "showDocumentation(\"all\")"
   ]
  },
  {
   "cell_type": "code",
   "execution_count": 4,
   "metadata": {
    "collapsed": false
   },
   "outputs": [
    {
     "data": {
      "text/plain": [
       "' 0.1235'"
      ]
     },
     "execution_count": 4,
     "metadata": {},
     "output_type": "execute_result"
    }
   ],
   "source": [
    "\" {0:.4f}\".format(0.12345678)"
   ]
  },
  {
   "cell_type": "code",
   "execution_count": 15,
   "metadata": {
    "collapsed": true
   },
   "outputs": [],
   "source": [
    "a = np.identity(4)\n",
    "a[0,1] = 0.5\n",
    "a[1,0] = 0.5\n",
    "a[2,3] = 0.5\n",
    "a[3,2] = 0.5"
   ]
  },
  {
   "cell_type": "code",
   "execution_count": null,
   "metadata": {
    "collapsed": false
   },
   "outputs": [],
   "source": []
  },
  {
   "cell_type": "code",
   "execution_count": 40,
   "metadata": {
    "collapsed": false
   },
   "outputs": [],
   "source": [
    "import difflib\n",
    "\n",
    "lines_sol = open(\"test_rebinning/test1.sol\").readlines()\n",
    "lines_res = open(\"test_rebinning/test1.res\").readlines()\n",
    "\n",
    "#d = difflib.Differ()\n",
    "#diffs = list(d.compare(lines_sol, lines_res))\n",
    "\n",
    "\n",
    "diffs = difflib.unified_diff(lines_sol, lines_res)\n",
    "for line in diffs:\n",
    "    print line"
   ]
  },
  {
   "cell_type": "code",
   "execution_count": 51,
   "metadata": {
    "collapsed": false
   },
   "outputs": [
    {
     "name": "stdout",
     "output_type": "stream",
     "text": [
      "--- file1\n",
      "+++ file2\n",
      "@@ -1,4 +1,4 @@\n",
      "-RI0 data 15.0000 30.0000 45.0000 60.0000\n",
      "\n",
      "+aRI0 data 15.0000 30.0000 45.0000 60.0000\n",
      "\n",
      " RI1 data 37.5000\n",
      "\n",
      " RI2 data 30.0000 45.0000\n",
      "\n",
      " RI3 data 22.5000 52.5000\n",
      "\n"
     ]
    }
   ],
   "source": [
    "import difflib\n",
    "\n",
    "lines1 = open(\"test_rebinning/test1.sol\").readlines()\n",
    "lines2 = open(\"test_rebinning/test1.res\").readlines()\n",
    "\n",
    "diff =  difflib.unified_diff(lines1, lines2, fromfile='file1', tofile='file2', lineterm='')\n",
    "[line for line in diff]\n",
    "for line in diff:\n",
    "    print line"
   ]
  },
  {
   "cell_type": "code",
   "execution_count": 54,
   "metadata": {
    "collapsed": false
   },
   "outputs": [
    {
     "ename": "AttributeError",
     "evalue": "'generator' object has no attribute 'size'",
     "output_type": "error",
     "traceback": [
      "\u001b[0;31m---------------------------------------------------------------------------\u001b[0m",
      "\u001b[0;31mAttributeError\u001b[0m                            Traceback (most recent call last)",
      "\u001b[0;32m<ipython-input-54-b103b75eb76c>\u001b[0m in \u001b[0;36m<module>\u001b[0;34m()\u001b[0m\n\u001b[0;32m----> 1\u001b[0;31m \u001b[0mdiff\u001b[0m\u001b[0;34m.\u001b[0m\u001b[0msize\u001b[0m\u001b[0;34m\u001b[0m\u001b[0m\n\u001b[0m",
      "\u001b[0;31mAttributeError\u001b[0m: 'generator' object has no attribute 'size'"
     ]
    }
   ],
   "source": []
  },
  {
   "cell_type": "code",
   "execution_count": 43,
   "metadata": {
    "collapsed": false
   },
   "outputs": [
    {
     "data": {
      "text/plain": [
       "['RI0 data 15.0000 30.0000 45.0000 60.0000\\n',\n",
       " 'RI1 data 37.5000\\n',\n",
       " 'RI2 data 30.0000 45.0000\\n',\n",
       " 'RI3 data 22.5000 52.5000\\n',\n",
       " 'R0 data 15.0000 30.0000 45.0000 60.0000 cov 1.0000 0.5000 0.0000 0.0000 0.5000 1.0000 0.0000 0.0000 0.0000 0.0000 1.0000 0.5000 0.0000 0.0000 0.5000 1.0000\\n',\n",
       " 'R1 data 37.5000 cov 0.3750\\n',\n",
       " 'R2 data 30.0000 45.0000 cov 0.5000 0.2500 0.2500 0.5000\\n',\n",
       " 'R3 data 22.5000 52.5000 cov 0.7500 0.0000 0.0000 0.7500']"
      ]
     },
     "execution_count": 43,
     "metadata": {},
     "output_type": "execute_result"
    }
   ],
   "source": [
    "lines_sol"
   ]
  },
  {
   "cell_type": "code",
   "execution_count": null,
   "metadata": {
    "collapsed": true
   },
   "outputs": [],
   "source": []
  }
 ],
 "metadata": {
  "kernelspec": {
   "display_name": "Python 2",
   "language": "python",
   "name": "python2"
  },
  "language_info": {
   "codemirror_mode": {
    "name": "ipython",
    "version": 2
   },
   "file_extension": ".py",
   "mimetype": "text/x-python",
   "name": "python",
   "nbconvert_exporter": "python",
   "pygments_lexer": "ipython2",
   "version": "2.7.10"
  }
 },
 "nbformat": 4,
 "nbformat_minor": 0
}
