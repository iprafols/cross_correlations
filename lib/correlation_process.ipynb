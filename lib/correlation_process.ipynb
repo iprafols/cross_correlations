{
 "cells": [
  {
   "cell_type": "markdown",
   "metadata": {},
   "source": [
    "# Import module"
   ]
  },
  {
   "cell_type": "code",
   "execution_count": 3,
   "metadata": {
    "collapsed": false
   },
   "outputs": [],
   "source": [
    "import correlation_process as cp"
   ]
  },
  {
   "cell_type": "markdown",
   "metadata": {},
   "source": [
    "# Reload module"
   ]
  },
  {
   "cell_type": "code",
   "execution_count": 14,
   "metadata": {
    "collapsed": false
   },
   "outputs": [
    {
     "data": {
      "text/plain": [
       "<module 'correlation_process' from 'correlation_process.py'>"
      ]
     },
     "execution_count": 14,
     "metadata": {},
     "output_type": "execute_result"
    }
   ],
   "source": [
    "reload(correlation_process)"
   ]
  },
  {
   "cell_type": "markdown",
   "metadata": {},
   "source": [
    "# Load data"
   ]
  },
  {
   "cell_type": "code",
   "execution_count": null,
   "metadata": {
    "collapsed": false,
    "scrolled": true
   },
   "outputs": [],
   "source": [
    "    filename = \"/Users/iprafols/software/development/cross_correlations/output/DLA_DR12_bin2Mpc_80Mpc_sampleC2/DR12DLA-DR12Lya_projected\"\n",
    "    filename2 = \"/Users/iprafols/software/development/cross_correlations/output/DLA_DR12_bin2Mpc_80Mpc_sampleC2/DR12DLA-DR12Lya_projected\"\n",
    "    filename3 = \"/Users/iprafols/tests/test_DLA/comparacio_DR12/cross\"\n",
    "\n",
    "    # define pi and sigma arrays\n",
    "    pi = np.arange(-80,82,2)\n",
    "    sigma = np.arange(0, 82, 2)\n",
    "    \n",
    "    pi2 = np.arange(-80,82,2)\n",
    "    sigma2 = np.arange(0, 82, 2)\n",
    "    \n",
    "    pi3 = np.array([-80, -70, - 60, -50, -40, -30, -20, -15, -10, -5, 0 , 5, 10, 15, 20, 30, 40, 50, 60, 70, 80])\n",
    "    sigma3 = np.array([0, 4, 7, 10, 15, 20, 30, 40, 50, 60, 70, 80])\n",
    "\n",
    "    # load data\n",
    "    print \"loading data from {}\".format(filename)\n",
    "    data = cp.CorrData(filename, pi, sigma)\n",
    "    print \"loading data from {}\".format(filename2)\n",
    "    data2 = cp.CorrData(filename2, pi2, sigma2)\n",
    "    print \"loading data from {}\".format(filename3)\n",
    "    data3 = cp.CorrData(filename3, pi3, sigma3)"
   ]
  },
  {
   "cell_type": "markdown",
   "metadata": {},
   "source": [
    "# Test for systematic errors"
   ]
  },
  {
   "cell_type": "code",
   "execution_count": 82,
   "metadata": {
    "collapsed": false
   },
   "outputs": [
    {
     "name": "stdout",
     "output_type": "stream",
     "text": [
      "Selected regions: \n",
      "sigma in [10 20], pi in [-10  10]\n",
      "sigma in [20 40], pi in [-20  20]\n",
      "sigma in [40 80], pi in [-40  40]\n",
      "sigma in [10 20], pi in [-20  20]\n",
      "sigma in [20 40], pi in [-40  40]\n",
      "sigma in [40 80], pi in [-80  80]\n",
      "Results from Ignasi's data:\n",
      "[array([ 0.00139652]), array([-0.00033739]), array([-0.00041909]), array([ 0.00152592]), array([-0.00024974]), array([-0.0003576])]\n",
      "Results from Andreu's data:\n",
      "[array([-0.00146258]), array([-0.0066597]), array([-0.00395703]), array([-0.00155107]), array([-0.00601474]), array([-0.00369754])]\n",
      "Results from Ignasi's data/Results from Andreu's data:\n",
      "[array([-0.95483714]), array([ 0.05066156]), array([ 0.10590903]), array([-0.98378189]), array([ 0.0415219]), array([ 0.09671227])]\n"
     ]
    }
   ],
   "source": [
    "# define regions in parallel and perpendicular separation\n",
    "sigma_regions = [np.array([10,20]), np.array([20,40]), np.array([40,80]), \n",
    "                 np.array([10,20]), np.array([20,40]), np.array([40,80])]\n",
    "pi_regions = [np.array([-10, 10]), np.array([-20, 20]), np.array([-40, 40]),\n",
    "              np.array([-20, 20]), np.array([-40, 40]), np.array([-80, 80])]\n",
    "\n",
    "# load data matrixes\n",
    "data_mat = data.data_mat()\n",
    "data2_mat = data2.data_mat()\n",
    "\n",
    "# compute the rebinned matrixes for each of the regions\n",
    "data_new_matrixes = [rebinIgnoringCovMat(data, pi_region, sigma_region) for pi_region, sigma_region in\n",
    "                           zip(pi_regions, sigma_regions)]\n",
    "data2_new_matrixes = [rebinIgnoringCovMat(data2, pi_region, sigma_region) for pi_region, sigma_region in\n",
    "                           zip(pi_regions, sigma_regions)]\n",
    "\n",
    "print \"Selected regions: \"\n",
    "for pi_region, sigma_region in zip(pi_regions, sigma_regions):\n",
    "    print \"sigma in {}, pi in {}\".format(sigma_region, pi_region)\n",
    "\n",
    "print \"Results from Ignasi's data:\"\n",
    "print data_new_matrixes\n",
    "\n",
    "print \"Results from Andreu's data:\"\n",
    "print data2_new_matrixes\n",
    "\n",
    "print \"Results from Ignasi's data/Results from Andreu's data:\"\n",
    "print [data_new_matrix/data2_new_matrix for data_new_matrix, data2_new_matrix in \n",
    "       zip(data_new_matrixes, data2_new_matrixes)]"
   ]
  },
  {
   "cell_type": "code",
   "execution_count": 45,
   "metadata": {
    "collapsed": false
   },
   "outputs": [
    {
     "name": "stdout",
     "output_type": "stream",
     "text": [
      "-0.0143940053263 -0.00291515047917\n"
     ]
    }
   ],
   "source": [
    "value = 0.0\n",
    "num = 0.0\n",
    "for d, pi, sigma in zip(data._data_mat, data._grid_pi_mat, data._grid_sigma_mat):\n",
    "    if pi >= -10 and pi <= 10 and sigma >= 10 and sigma <= 20:\n",
    "        value += d*sigma\n",
    "        num += sigma\n",
    "value /= num\n",
    "\n",
    "value2 = 0.0\n",
    "num2 = 0.0\n",
    "pi2 = np.array([-80, -70, - 60, -50, -40, -30, -20, -15, -10, -5, 0 , 5, 10, 15, 20, 30, 40, 50, 60, 70, 80])\n",
    "sigma2 = np.array([0, 4, 7, 10, 15, 20, 30, 40, 50, 60, 70, 80])\n",
    "data2_mat = data2._data_mat \n",
    "for k_pi in range(0, pi2.size - 2):\n",
    "    for k_sigma in range(0, sigma2.size - 2):\n",
    "        aux_pi = (pi2[k_pi]+pi2[k_pi + 1])/2.0\n",
    "        aux_sigma = (sigma2[k_sigma]+sigma2[k_sigma + 1])/2.0\n",
    "        if aux_pi >= -10 and aux_pi <= 10 and aux_sigma >= 10 and aux_sigma <= 20:\n",
    "            k = k_pi*(sigma2.size - 1)+k_sigma\n",
    "            value2 += data2_mat[k]*aux_sigma\n",
    "            num2 += aux_sigma\n",
    "value2 /= num\n",
    "\n",
    "print value, value2"
   ]
  },
  {
   "cell_type": "code",
   "execution_count": 30,
   "metadata": {
    "collapsed": false
   },
   "outputs": [
    {
     "name": "stdout",
     "output_type": "stream",
     "text": [
      "-0.002955625813\n"
     ]
    }
   ],
   "source": [
    "value = 0.0\n",
    "num = 0\n",
    "for d, pi, sigma in zip(data._data_mat, data._grid_pi_mat, data._grid_sigma_mat):\n",
    "    if pi >= -20 and pi <= 20 and sigma >= 20 and sigma <= 40:\n",
    "        value += d\n",
    "        num += 1\n",
    "value /= num\n",
    "\n",
    "print value"
   ]
  },
  {
   "cell_type": "code",
   "execution_count": 31,
   "metadata": {
    "collapsed": false
   },
   "outputs": [
    {
     "name": "stdout",
     "output_type": "stream",
     "text": [
      "-0.000346035425575\n"
     ]
    }
   ],
   "source": [
    "value = 0.0\n",
    "num = 0\n",
    "for d, pi, sigma in zip(data._data_mat, data._grid_pi_mat, data._grid_sigma_mat):\n",
    "    if pi >= -40 and pi <= 40 and sigma >= 40 and sigma <= 80:\n",
    "        value += d\n",
    "        num += 1\n",
    "value /= num\n",
    "\n",
    "print value"
   ]
  },
  {
   "cell_type": "markdown",
   "metadata": {
    "collapsed": true
   },
   "source": [
    "# Print documentation"
   ]
  },
  {
   "cell_type": "code",
   "execution_count": 16,
   "metadata": {
    "collapsed": false
   },
   "outputs": [
    {
     "name": "stdout",
     "output_type": "stream",
     "text": [
      "\n",
      "Documentation for CorrData:\n",
      "\n",
      "    Manage the data generated by the cross-correlation code.\n",
      "    \n",
      "    CLASS: CorrData\n",
      "    PURPOSE:\n",
      "        Manage the data generated by the cross-correlation code\n",
      "    PUBLIC METHODS:\n",
      "        __init__(self, filename, pi, sigma)\n",
      "        computeTransformationMatrix(self, new_pi, new_sigma, keep_matrix=False)\n",
      "        rebinData(self, transformation_matrix, keep_results=False, rebin_grid=True)\n",
      "        data_mat()\n",
      "        has_grid()\n",
      "        sigma()\n",
      "    PRIVATE METHODS (should not be called except by class methods):\n",
      "        _formatData(self)\n",
      "    PRIVATE VARIABLES (should not be accessed except by class methods):\n",
      "        _data (structured np.ndarray]):         Contains the measurement of the cross-correlation for the\n",
      "                                                different bins\n",
      "        _data_mat (np.ndarray:                  Matrix form of _data\n",
      "        _cov (structured np.ndarray):           Contains the measurement of the covariance matrix for the\n",
      "                                                different bins\n",
      "        _cov_mat (np.ndarray):                  Matrix form of _cov\n",
      "        _grid (structured np.ndarray):          Contains the grid layout for the different bins. Ignored if\n",
      "                                                _has_grid is False\n",
      "        _grid_pi_mat (np.ndarray):              Matrix form of the values of parallel separation from _grid\n",
      "                                                Ignored if _has_grid is False\n",
      "        _grid_sigma_mat (np.ndarray):           Matrix form of the values of perpendicular separation from\n",
      "                                                _grid. Ignored if _has_grid is False\n",
      "        _grid_z_mat (np.ndarray):               Matrix form of the values of the redshift from _grid. Ignored\n",
      "                                                if _has_grid is False\n",
      "        _dist (structured np.ndarray):          Contains the measurement of the distortion matrix. Ignored\n",
      "                                                if _has_dist is False\n",
      "        _dist_mat (np.ndarray):                 Matrix form of _dist. Ignored if _has_dist is False\n",
      "        _has_grid (boolean):                    True if the grid layout is specified, False otherwise\n",
      "        _has_dmat (boolean):                    True if the distortion matrix is specified, False otherwise\n",
      "        _pi (np.ndarray):                       An array specifying the limits of the parallel separation\n",
      "                                                bins\n",
      "        _sigma (np.ndarray]):                   An array specifying the limits of the perpendicular\n",
      "                                                separation bins\n",
      "        _transformatiom_matrix (np.ndarray):    An array containing the conversion to the last specified\n",
      "                                                binning\n",
      "        _pi_new (np.ndarray):                   An array containing the rebinned bins in pi\n",
      "        _sigma_new (np.ndarray):                An array containing the rebinned bins in sigma\n",
      "        _cov_mat_new (np.ndarray):              An array containing the rebinned version of _cov_mat\n",
      "        _data_mat_new (np.ndarray):             An array containing the rebinned version of _data_mat\n",
      "        _grid_pi_mat_new (np.ndarray):          An array containing the rebinned version of _grid_pi_mat.\n",
      "                                                Ignored if _has_grid is False\n",
      "        _grid_sigma_mat_new (np.ndarray):       An array containing the rebinned version of _grid_sigma_mat.\n",
      "                                                Ignored if _has_grid is False\n",
      "        _grid_z_mat_new (np.ndarray):           An array containing the rebinned version of _grid_z_mat.\n",
      "                                                Ignored if _has_grid is False\n",
      "    ASSOCIATED WARNING AND ERORR CLASSES:\n",
      "        CorrDataWarning\n",
      "        CorrDataError\n",
      "\n",
      "\n"
     ]
    }
   ],
   "source": [
    "showDocumentation(CorrData)"
   ]
  },
  {
   "cell_type": "code",
   "execution_count": null,
   "metadata": {
    "collapsed": false
   },
   "outputs": [],
   "source": []
  },
  {
   "cell_type": "code",
   "execution_count": 7,
   "metadata": {
    "collapsed": false
   },
   "outputs": [
    {
     "data": {
      "text/plain": [
       "numpy.float64"
      ]
     },
     "execution_count": 7,
     "metadata": {},
     "output_type": "execute_result"
    }
   ],
   "source": [
    "a = np.arange(10, dtype=float)\n",
    "type(a[0])"
   ]
  },
  {
   "cell_type": "code",
   "execution_count": 13,
   "metadata": {
    "collapsed": false
   },
   "outputs": [
    {
     "name": "stdout",
     "output_type": "stream",
     "text": [
      "True\n"
     ]
    }
   ],
   "source": [
    "print isinstance(a[0], np.float64)"
   ]
  },
  {
   "cell_type": "code",
   "execution_count": null,
   "metadata": {
    "collapsed": true
   },
   "outputs": [],
   "source": []
  }
 ],
 "metadata": {
  "kernelspec": {
   "display_name": "Python 2",
   "language": "python",
   "name": "python2"
  },
  "language_info": {
   "codemirror_mode": {
    "name": "ipython",
    "version": 2
   },
   "file_extension": ".py",
   "mimetype": "text/x-python",
   "name": "python",
   "nbconvert_exporter": "python",
   "pygments_lexer": "ipython2",
   "version": "2.7.10"
  }
 },
 "nbformat": 4,
 "nbformat_minor": 0
}
